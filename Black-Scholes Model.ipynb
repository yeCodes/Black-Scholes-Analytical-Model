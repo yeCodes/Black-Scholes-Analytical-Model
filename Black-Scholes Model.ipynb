{
 "cells": [
  {
   "cell_type": "markdown",
   "id": "e103b256",
   "metadata": {},
   "source": [
    "### Black-Scholes model\n",
    "\n",
    "This PDE has an analytical solution, so there is no need to solve using NUMERICAL METHODS, more specifically, finite difference equations\n",
    "\n",
    "- Simply plug in the parameters and write out the formulas to solve\n",
    "\n",
    "### Credit: Kevin Mooney\n"
   ]
  },
  {
   "cell_type": "code",
   "execution_count": 11,
   "id": "d1679e6a",
   "metadata": {},
   "outputs": [],
   "source": [
    "import numpy as np\n",
    "from scipy.stats import norm\n"
   ]
  },
  {
   "cell_type": "code",
   "execution_count": 12,
   "id": "1afc20fa",
   "metadata": {},
   "outputs": [],
   "source": [
    "# https://www.investopedia.com/thmb/ReG3c8-HP3FaCqsGEub_jqIL2C4=/1280x640/filters:no_upscale():max_bytes(150000):strip_icc()/latex_0e04b3a12b28ba19912934e41f47103f-5c6abfca46e0fb0001b35d7f.jpg\n",
    "def call_price(sigma, S, K, r, t):\n",
    "    d1 = np.multiply( 1. / sigma * np.divide(1., np.sqrt(t)),\n",
    "        np.log(S/K) + (r + sigma**2 / 2.) * t  )\n",
    "    d2 = d1 - sigma * np.sqrt(t)\n",
    "    \n",
    "    C = np.multiply(S, norm.cdf(d1)) - \\\n",
    "        np.multiply(norm.cdf(d2) * K, np.exp(-r * t))\n",
    "    return C\n",
    "\n",
    "# https://qph.fs.quoracdn.net/main-qimg-3f4d9175c038a98be895f27f566fae5e\n",
    "def put_price(sigma, S, K, r, t):\n",
    "    d1 = np.multiply( 1. / sigma * np.divide(1., np.sqrt(t)),\n",
    "        np.log(S/K) + (r + sigma**2 / 2.) * t  )\n",
    "    d2 = d1 - sigma * np.sqrt(t)\n",
    "    \n",
    "    P = -np.multiply(S, norm.cdf(-d1)) + \\\n",
    "        np.multiply(norm.cdf(-d2) * K, np.exp(-r * t))\n",
    "    return P"
   ]
  },
  {
   "cell_type": "code",
   "execution_count": 13,
   "id": "6dc70a9d",
   "metadata": {},
   "outputs": [
    {
     "data": {
      "text/plain": [
       "15.239829429316998"
      ]
     },
     "execution_count": 13,
     "metadata": {},
     "output_type": "execute_result"
    }
   ],
   "source": [
    "#  Calculate the call price\n",
    "\n",
    "t = 1   # 1 year\n",
    "S0 = 100\n",
    "r = 0.01   # annual risk free rate\n",
    "K = 102.5  # strike price\n",
    "\n",
    "call_price(0.40, S0, K, r, t)"
   ]
  },
  {
   "cell_type": "code",
   "execution_count": null,
   "id": "5b58ad63",
   "metadata": {},
   "outputs": [],
   "source": []
  }
 ],
 "metadata": {
  "kernelspec": {
   "display_name": "Python 3 (ipykernel)",
   "language": "python",
   "name": "python3"
  },
  "language_info": {
   "codemirror_mode": {
    "name": "ipython",
    "version": 3
   },
   "file_extension": ".py",
   "mimetype": "text/x-python",
   "name": "python",
   "nbconvert_exporter": "python",
   "pygments_lexer": "ipython3",
   "version": "3.9.12"
  }
 },
 "nbformat": 4,
 "nbformat_minor": 5
}
